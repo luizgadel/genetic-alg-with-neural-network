{
 "cells": [
  {
   "cell_type": "code",
   "execution_count": 3,
   "id": "f401c132",
   "metadata": {},
   "outputs": [],
   "source": [
    "import numpy as np\n",
    "from sklearn.model_selection import train_test_split"
   ]
  },
  {
   "cell_type": "code",
   "execution_count": 31,
   "id": "bbb98643",
   "metadata": {},
   "outputs": [
    {
     "data": {
      "text/plain": [
       "(array([[1.  , 0.  ],\n",
       "        [0.5 , 0.  ],\n",
       "        [0.  , 0.27],\n",
       "        [0.3 , 0.27]]),\n",
       " array([[0.7 , 0.72, 0.29, 0.82, 0.63],\n",
       "        [0.31, 0.26, 0.49, 0.5 , 0.28],\n",
       "        [0.03, 0.13, 0.9 , 0.22, 0.28],\n",
       "        [0.33, 0.33, 0.56, 0.85, 0.75]]))"
      ]
     },
     "execution_count": 31,
     "metadata": {},
     "output_type": "execute_result"
    }
   ],
   "source": [
    "X = np.array(([0, 0], [0, 0.27], [0, 0.71],\n",
    "              [0.3, 0.27], [0.3, 0.71], [0.3, 1],\n",
    "              [0.5, 0], [0.5, 0.27], [0.5, 1],\n",
    "              [0.75, 0.27], [0.75, 0.71], [0.75, 1],\n",
    "              [1, 0], [1, 0.71], [1, 1]), dtype=float)\n",
    "\n",
    "Y = np.array(([1, 1, 0, 0.85, 0.82], [0.78, 0.85, 0.04, 0.9, 0.9], [0.75, 0.8, 0.08, 0.97, 0.96],\n",
    "              [0.7, 0.72, 0.29, 0.82, 0.63], [0.45, 0.49, 0.3, 0.91, 0.71], [0.42, 0.46, 0.32, 0.94, 0.82], \n",
    "              [0.64, 0.72, 0.32, 0.74, 0.51], [0.42, 0.49, 0.4, 0.8, 0.28], [0.33, 0.33, 0.56, 0.85, 0.75], \n",
    "              [0.31, 0.26, 0.49, 0.5, 0.28], [0.28, 0.23, 0.53, 0.63, 0.37], [0.22, 0.15, 0.65, 0.69, 0.49],\n",
    "              [0.11, 0.28, 0.54, 0, 0], [0.03, 0.13, 0.9, 0.22, 0.28], [0, 0, 1, 0.35, 0.35]), dtype=float)\n",
    "\n",
    "train_X, test_X = train_test_split(X, test_size=0.25)\n",
    "train_Y, test_Y = train_test_split(Y, test_size=0.25)\n",
    "test_X, test_Y"
   ]
  },
  {
   "cell_type": "code",
   "execution_count": 46,
   "id": "c96fc48b",
   "metadata": {},
   "outputs": [
    {
     "name": "stdout",
     "output_type": "stream",
     "text": [
      "[[-0.61096189 -0.47313113]\n",
      " [-0.09391862 -0.61663712]\n",
      " [-0.4092189   0.3798713 ]\n",
      " [-0.42232159 -0.27510949]]\n"
     ]
    }
   ],
   "source": [
    "t_size = 4\n",
    "il_size = 2\n",
    "hl_size = 7\n",
    "ol_size = 5\n",
    "\n",
    "X = np.random.randn(t_size, il_size)\n",
    "print(X)"
   ]
  },
  {
   "cell_type": "code",
   "execution_count": 47,
   "id": "802f7178",
   "metadata": {},
   "outputs": [
    {
     "name": "stdout",
     "output_type": "stream",
     "text": [
      "[ 3.23309137 -0.59350268 -0.27213157  0.86059742  1.05063707 -0.08997439\n",
      " -0.07282531]\n",
      "[-0.28782245 -0.25770285  0.97585932 -1.13367794  0.50445335]\n"
     ]
    }
   ],
   "source": [
    "bias_1 = np.random.randn(hl_size) \n",
    "bias_2 = np.random.randn(ol_size)\n",
    "biases = [bias_1, bias_2]\n",
    "biases_np = np.array(biases, dtype=object)\n",
    "print(biases[0])\n",
    "print(biases[1])"
   ]
  },
  {
   "cell_type": "code",
   "execution_count": 48,
   "id": "feca0ae5",
   "metadata": {},
   "outputs": [
    {
     "name": "stdout",
     "output_type": "stream",
     "text": [
      "[[ 0.54606935 -2.91516561  0.45941715  0.30696433 -0.23483686  0.14263385\n",
      "  -1.38295849]\n",
      " [-1.08652222  0.75020063 -0.01855732 -0.66014808 -0.08284548  0.14859946\n",
      "   1.00059478]]\n",
      "[[-0.85279184 -0.09809387  0.28208401 -1.12839665 -1.53162976]\n",
      " [-1.04251657  1.16452739  0.94584039 -0.50078843  0.37957078]\n",
      " [ 0.83386158 -1.56235014 -0.05645452 -0.65477676  0.6049406 ]\n",
      " [-0.03998848 -0.63323447  1.97320801  1.11634171  0.36862908]\n",
      " [ 0.22042062 -1.18756695  0.76024314 -0.87621554 -2.17198722]\n",
      " [-0.69891522 -0.02727323 -0.49340541 -1.52832993 -0.00585052]\n",
      " [ 1.29692503 -1.03889679 -0.05054953  0.01586211  1.87148171]]\n"
     ]
    }
   ],
   "source": [
    "weights_1 = np.random.randn(il_size, hl_size)\n",
    "weights_2 = np.random.randn(hl_size, ol_size)\n",
    "weights = [weights_1, weights_2]\n",
    "weights_np = np.array(weights, dtype=object)\n",
    "print(weights[0])\n",
    "print(weights_np[1])"
   ]
  },
  {
   "cell_type": "code",
   "execution_count": 56,
   "id": "3b8c0c76",
   "metadata": {},
   "outputs": [
    {
     "name": "stdout",
     "output_type": "stream",
     "text": [
      "[[ 0.18043992  1.42611182 -0.27190632  0.1247931   0.18267315 -0.15745088\n",
      "   0.3715224 ]\n",
      " [ 0.61870385 -0.18881321 -0.0317047   0.37824214  0.07314115 -0.10502792\n",
      "  -0.48711832]\n",
      " [-0.6362005   1.47792055 -0.19505157 -0.37638691  0.06462906 -0.0019198\n",
      "   0.94602999]\n",
      " [ 0.0682957   1.02475005 -0.18891648  0.05197534  0.12196825 -0.10111848\n",
      "   0.3087801 ]]\n",
      "[[ 3.41353129  0.83260914 -0.54403789  0.98539052  1.23331022 -0.24742527\n",
      "   0.29869708]\n",
      " [ 3.85179522 -0.78231589 -0.30383626  1.23883957  1.12377822 -0.19500231\n",
      "  -0.55994364]\n",
      " [ 2.59689087  0.88441787 -0.46718314  0.48421051  1.11526613 -0.09189418\n",
      "   0.87320467]\n",
      " [ 3.30138707  0.43124737 -0.46104805  0.91257277  1.17260532 -0.19109286\n",
      "   0.23595479]]\n"
     ]
    }
   ],
   "source": [
    "wi_partial_1 = np.dot(X, weights[0])\n",
    "wi = wi_partial_1 + biases[0]\n",
    "print(wi_partial_1)\n",
    "print(wi)"
   ]
  }
 ],
 "metadata": {
  "kernelspec": {
   "display_name": "Python 3",
   "language": "python",
   "name": "python3"
  },
  "language_info": {
   "codemirror_mode": {
    "name": "ipython",
    "version": 3
   },
   "file_extension": ".py",
   "mimetype": "text/x-python",
   "name": "python",
   "nbconvert_exporter": "python",
   "pygments_lexer": "ipython3",
   "version": "3.8.8"
  }
 },
 "nbformat": 4,
 "nbformat_minor": 5
}
