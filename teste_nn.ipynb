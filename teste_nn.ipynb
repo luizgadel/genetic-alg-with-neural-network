{
 "cells": [
  {
   "cell_type": "code",
   "execution_count": 395,
   "id": "ab5caf4e",
   "metadata": {},
   "outputs": [],
   "source": [
    "import pandas as pd\n",
    "import numpy as np\n",
    "from numpy.random import default_rng\n",
    "\n",
    "def normalize_dataset(df):\n",
    "    return (df - df.min()) / (df.max() - df.min())\n",
    "\n",
    "def sigmoid(s):\n",
    "        return 1/(1 + np.exp(-s))\n",
    "    \n",
    "def randn(dim1, dim2, low, high):\n",
    "    return (high - low) * rng.random((dim1, dim2)) + low\n",
    "\n",
    "def sigmoid_prime(s):\n",
    "        return sigmoid(s) * (1 - sigmoid(s))\n",
    "    \n",
    "def drop(arr, n):\n",
    "    if (n > 0):\n",
    "        return arr[n:]\n",
    "    else:\n",
    "        return arr[:n]"
   ]
  },
  {
   "cell_type": "markdown",
   "id": "72049863",
   "metadata": {},
   "source": [
    "# Importar dados do banco de dados\n"
   ]
  },
  {
   "cell_type": "code",
   "execution_count": 396,
   "id": "380a139d",
   "metadata": {},
   "outputs": [
    {
     "data": {
      "text/html": [
       "<div>\n",
       "<style scoped>\n",
       "    .dataframe tbody tr th:only-of-type {\n",
       "        vertical-align: middle;\n",
       "    }\n",
       "\n",
       "    .dataframe tbody tr th {\n",
       "        vertical-align: top;\n",
       "    }\n",
       "\n",
       "    .dataframe thead th {\n",
       "        text-align: right;\n",
       "    }\n",
       "</style>\n",
       "<table border=\"1\" class=\"dataframe\">\n",
       "  <thead>\n",
       "    <tr style=\"text-align: right;\">\n",
       "      <th></th>\n",
       "      <th>Total Rotation Speed (rpm)</th>\n",
       "      <th>Welding Speed (mm/min)</th>\n",
       "      <th>Tensile Strength (MPa)</th>\n",
       "      <th>Yield Strength (MPa)</th>\n",
       "      <th>Elongation (%)</th>\n",
       "      <th>Hardness Weld (HV)</th>\n",
       "      <th>Hardness HAZ (HV)</th>\n",
       "    </tr>\n",
       "  </thead>\n",
       "  <tbody>\n",
       "    <tr>\n",
       "      <th>0</th>\n",
       "      <td>500</td>\n",
       "      <td>6.25</td>\n",
       "      <td>112</td>\n",
       "      <td>86</td>\n",
       "      <td>3.04</td>\n",
       "      <td>27.2</td>\n",
       "      <td>27.60</td>\n",
       "    </tr>\n",
       "    <tr>\n",
       "      <th>1</th>\n",
       "      <td>500</td>\n",
       "      <td>10.00</td>\n",
       "      <td>104</td>\n",
       "      <td>80</td>\n",
       "      <td>3.34</td>\n",
       "      <td>27.5</td>\n",
       "      <td>28.00</td>\n",
       "    </tr>\n",
       "    <tr>\n",
       "      <th>2</th>\n",
       "      <td>500</td>\n",
       "      <td>16.00</td>\n",
       "      <td>103</td>\n",
       "      <td>78</td>\n",
       "      <td>3.71</td>\n",
       "      <td>28.0</td>\n",
       "      <td>28.30</td>\n",
       "    </tr>\n",
       "    <tr>\n",
       "      <th>3</th>\n",
       "      <td>500</td>\n",
       "      <td>20.00</td>\n",
       "      <td>102</td>\n",
       "      <td>76</td>\n",
       "      <td>4.78</td>\n",
       "      <td>28.2</td>\n",
       "      <td>28.50</td>\n",
       "    </tr>\n",
       "    <tr>\n",
       "      <th>4</th>\n",
       "      <td>800</td>\n",
       "      <td>6.25</td>\n",
       "      <td>102</td>\n",
       "      <td>77</td>\n",
       "      <td>5.22</td>\n",
       "      <td>26.8</td>\n",
       "      <td>26.55</td>\n",
       "    </tr>\n",
       "    <tr>\n",
       "      <th>5</th>\n",
       "      <td>800</td>\n",
       "      <td>10.00</td>\n",
       "      <td>101</td>\n",
       "      <td>75</td>\n",
       "      <td>5.44</td>\n",
       "      <td>27.0</td>\n",
       "      <td>26.60</td>\n",
       "    </tr>\n",
       "    <tr>\n",
       "      <th>6</th>\n",
       "      <td>800</td>\n",
       "      <td>16.00</td>\n",
       "      <td>92</td>\n",
       "      <td>66</td>\n",
       "      <td>5.52</td>\n",
       "      <td>27.6</td>\n",
       "      <td>27.00</td>\n",
       "    </tr>\n",
       "    <tr>\n",
       "      <th>7</th>\n",
       "      <td>800</td>\n",
       "      <td>20.00</td>\n",
       "      <td>91</td>\n",
       "      <td>65</td>\n",
       "      <td>5.63</td>\n",
       "      <td>27.8</td>\n",
       "      <td>27.60</td>\n",
       "    </tr>\n",
       "    <tr>\n",
       "      <th>8</th>\n",
       "      <td>1000</td>\n",
       "      <td>6.25</td>\n",
       "      <td>99</td>\n",
       "      <td>75</td>\n",
       "      <td>5.65</td>\n",
       "      <td>26.4</td>\n",
       "      <td>26.00</td>\n",
       "    </tr>\n",
       "    <tr>\n",
       "      <th>9</th>\n",
       "      <td>1000</td>\n",
       "      <td>10.00</td>\n",
       "      <td>91</td>\n",
       "      <td>66</td>\n",
       "      <td>6.36</td>\n",
       "      <td>26.8</td>\n",
       "      <td>24.80</td>\n",
       "    </tr>\n",
       "    <tr>\n",
       "      <th>10</th>\n",
       "      <td>1000</td>\n",
       "      <td>16.00</td>\n",
       "      <td>89</td>\n",
       "      <td>63</td>\n",
       "      <td>6.94</td>\n",
       "      <td>27.0</td>\n",
       "      <td>26.70</td>\n",
       "    </tr>\n",
       "    <tr>\n",
       "      <th>11</th>\n",
       "      <td>1000</td>\n",
       "      <td>20.00</td>\n",
       "      <td>88</td>\n",
       "      <td>60</td>\n",
       "      <td>7.63</td>\n",
       "      <td>27.2</td>\n",
       "      <td>27.20</td>\n",
       "    </tr>\n",
       "    <tr>\n",
       "      <th>12</th>\n",
       "      <td>1250</td>\n",
       "      <td>6.25</td>\n",
       "      <td>88</td>\n",
       "      <td>60</td>\n",
       "      <td>7.00</td>\n",
       "      <td>24.0</td>\n",
       "      <td>24.10</td>\n",
       "    </tr>\n",
       "    <tr>\n",
       "      <th>13</th>\n",
       "      <td>1250</td>\n",
       "      <td>10.00</td>\n",
       "      <td>87</td>\n",
       "      <td>57</td>\n",
       "      <td>7.02</td>\n",
       "      <td>24.8</td>\n",
       "      <td>24.80</td>\n",
       "    </tr>\n",
       "    <tr>\n",
       "      <th>14</th>\n",
       "      <td>1250</td>\n",
       "      <td>16.00</td>\n",
       "      <td>86</td>\n",
       "      <td>56</td>\n",
       "      <td>7.36</td>\n",
       "      <td>25.7</td>\n",
       "      <td>25.30</td>\n",
       "    </tr>\n",
       "    <tr>\n",
       "      <th>15</th>\n",
       "      <td>1250</td>\n",
       "      <td>20.00</td>\n",
       "      <td>84</td>\n",
       "      <td>53</td>\n",
       "      <td>8.36</td>\n",
       "      <td>26.1</td>\n",
       "      <td>25.90</td>\n",
       "    </tr>\n",
       "    <tr>\n",
       "      <th>16</th>\n",
       "      <td>1500</td>\n",
       "      <td>6.25</td>\n",
       "      <td>80</td>\n",
       "      <td>58</td>\n",
       "      <td>7.45</td>\n",
       "      <td>21.4</td>\n",
       "      <td>23.40</td>\n",
       "    </tr>\n",
       "    <tr>\n",
       "      <th>17</th>\n",
       "      <td>1500</td>\n",
       "      <td>10.00</td>\n",
       "      <td>79</td>\n",
       "      <td>86</td>\n",
       "      <td>10.17</td>\n",
       "      <td>22.0</td>\n",
       "      <td>23.70</td>\n",
       "    </tr>\n",
       "    <tr>\n",
       "      <th>18</th>\n",
       "      <td>1500</td>\n",
       "      <td>16.00</td>\n",
       "      <td>77</td>\n",
       "      <td>52</td>\n",
       "      <td>10.39</td>\n",
       "      <td>22.9</td>\n",
       "      <td>24.80</td>\n",
       "    </tr>\n",
       "    <tr>\n",
       "      <th>19</th>\n",
       "      <td>1500</td>\n",
       "      <td>20.00</td>\n",
       "      <td>76</td>\n",
       "      <td>47</td>\n",
       "      <td>11.26</td>\n",
       "      <td>23.8</td>\n",
       "      <td>25.20</td>\n",
       "    </tr>\n",
       "  </tbody>\n",
       "</table>\n",
       "</div>"
      ],
      "text/plain": [
       "    Total Rotation Speed (rpm)  Welding Speed (mm/min)  \\\n",
       "0                          500                    6.25   \n",
       "1                          500                   10.00   \n",
       "2                          500                   16.00   \n",
       "3                          500                   20.00   \n",
       "4                          800                    6.25   \n",
       "5                          800                   10.00   \n",
       "6                          800                   16.00   \n",
       "7                          800                   20.00   \n",
       "8                         1000                    6.25   \n",
       "9                         1000                   10.00   \n",
       "10                        1000                   16.00   \n",
       "11                        1000                   20.00   \n",
       "12                        1250                    6.25   \n",
       "13                        1250                   10.00   \n",
       "14                        1250                   16.00   \n",
       "15                        1250                   20.00   \n",
       "16                        1500                    6.25   \n",
       "17                        1500                   10.00   \n",
       "18                        1500                   16.00   \n",
       "19                        1500                   20.00   \n",
       "\n",
       "    Tensile Strength (MPa)  Yield Strength (MPa)  Elongation (%)  \\\n",
       "0                      112                    86            3.04   \n",
       "1                      104                    80            3.34   \n",
       "2                      103                    78            3.71   \n",
       "3                      102                    76            4.78   \n",
       "4                      102                    77            5.22   \n",
       "5                      101                    75            5.44   \n",
       "6                       92                    66            5.52   \n",
       "7                       91                    65            5.63   \n",
       "8                       99                    75            5.65   \n",
       "9                       91                    66            6.36   \n",
       "10                      89                    63            6.94   \n",
       "11                      88                    60            7.63   \n",
       "12                      88                    60            7.00   \n",
       "13                      87                    57            7.02   \n",
       "14                      86                    56            7.36   \n",
       "15                      84                    53            8.36   \n",
       "16                      80                    58            7.45   \n",
       "17                      79                    86           10.17   \n",
       "18                      77                    52           10.39   \n",
       "19                      76                    47           11.26   \n",
       "\n",
       "    Hardness Weld (HV)  Hardness HAZ (HV)  \n",
       "0                 27.2              27.60  \n",
       "1                 27.5              28.00  \n",
       "2                 28.0              28.30  \n",
       "3                 28.2              28.50  \n",
       "4                 26.8              26.55  \n",
       "5                 27.0              26.60  \n",
       "6                 27.6              27.00  \n",
       "7                 27.8              27.60  \n",
       "8                 26.4              26.00  \n",
       "9                 26.8              24.80  \n",
       "10                27.0              26.70  \n",
       "11                27.2              27.20  \n",
       "12                24.0              24.10  \n",
       "13                24.8              24.80  \n",
       "14                25.7              25.30  \n",
       "15                26.1              25.90  \n",
       "16                21.4              23.40  \n",
       "17                22.0              23.70  \n",
       "18                22.9              24.80  \n",
       "19                23.8              25.20  "
      ]
     },
     "execution_count": 396,
     "metadata": {},
     "output_type": "execute_result"
    }
   ],
   "source": [
    "data = pd.read_excel('./../dataset_okuyucu.xlsx')\n",
    "data"
   ]
  },
  {
   "cell_type": "markdown",
   "id": "8d84ab9c",
   "metadata": {},
   "source": [
    "# Transformação e seleção dos dados\n",
    "\n",
    "## Padronização\n"
   ]
  },
  {
   "cell_type": "code",
   "execution_count": 397,
   "id": "91d936e2",
   "metadata": {},
   "outputs": [
    {
     "data": {
      "text/html": [
       "<div>\n",
       "<style scoped>\n",
       "    .dataframe tbody tr th:only-of-type {\n",
       "        vertical-align: middle;\n",
       "    }\n",
       "\n",
       "    .dataframe tbody tr th {\n",
       "        vertical-align: top;\n",
       "    }\n",
       "\n",
       "    .dataframe thead th {\n",
       "        text-align: right;\n",
       "    }\n",
       "</style>\n",
       "<table border=\"1\" class=\"dataframe\">\n",
       "  <thead>\n",
       "    <tr style=\"text-align: right;\">\n",
       "      <th></th>\n",
       "      <th>Total Rotation Speed (rpm)</th>\n",
       "      <th>Welding Speed (mm/min)</th>\n",
       "      <th>Tensile Strength (MPa)</th>\n",
       "      <th>Yield Strength (MPa)</th>\n",
       "      <th>Elongation (%)</th>\n",
       "      <th>Hardness Weld (HV)</th>\n",
       "      <th>Hardness HAZ (HV)</th>\n",
       "    </tr>\n",
       "  </thead>\n",
       "  <tbody>\n",
       "    <tr>\n",
       "      <th>0</th>\n",
       "      <td>0.00</td>\n",
       "      <td>0.000000</td>\n",
       "      <td>1.000000</td>\n",
       "      <td>1.000000</td>\n",
       "      <td>0.000000</td>\n",
       "      <td>0.852941</td>\n",
       "      <td>0.823529</td>\n",
       "    </tr>\n",
       "    <tr>\n",
       "      <th>1</th>\n",
       "      <td>0.00</td>\n",
       "      <td>0.272727</td>\n",
       "      <td>0.777778</td>\n",
       "      <td>0.846154</td>\n",
       "      <td>0.036496</td>\n",
       "      <td>0.897059</td>\n",
       "      <td>0.901961</td>\n",
       "    </tr>\n",
       "    <tr>\n",
       "      <th>2</th>\n",
       "      <td>0.00</td>\n",
       "      <td>0.709091</td>\n",
       "      <td>0.750000</td>\n",
       "      <td>0.794872</td>\n",
       "      <td>0.081509</td>\n",
       "      <td>0.970588</td>\n",
       "      <td>0.960784</td>\n",
       "    </tr>\n",
       "    <tr>\n",
       "      <th>3</th>\n",
       "      <td>0.00</td>\n",
       "      <td>1.000000</td>\n",
       "      <td>0.722222</td>\n",
       "      <td>0.743590</td>\n",
       "      <td>0.211679</td>\n",
       "      <td>1.000000</td>\n",
       "      <td>1.000000</td>\n",
       "    </tr>\n",
       "    <tr>\n",
       "      <th>4</th>\n",
       "      <td>0.30</td>\n",
       "      <td>0.000000</td>\n",
       "      <td>0.722222</td>\n",
       "      <td>0.769231</td>\n",
       "      <td>0.265207</td>\n",
       "      <td>0.794118</td>\n",
       "      <td>0.617647</td>\n",
       "    </tr>\n",
       "    <tr>\n",
       "      <th>5</th>\n",
       "      <td>0.30</td>\n",
       "      <td>0.272727</td>\n",
       "      <td>0.694444</td>\n",
       "      <td>0.717949</td>\n",
       "      <td>0.291971</td>\n",
       "      <td>0.823529</td>\n",
       "      <td>0.627451</td>\n",
       "    </tr>\n",
       "    <tr>\n",
       "      <th>6</th>\n",
       "      <td>0.30</td>\n",
       "      <td>0.709091</td>\n",
       "      <td>0.444444</td>\n",
       "      <td>0.487179</td>\n",
       "      <td>0.301703</td>\n",
       "      <td>0.911765</td>\n",
       "      <td>0.705882</td>\n",
       "    </tr>\n",
       "    <tr>\n",
       "      <th>7</th>\n",
       "      <td>0.30</td>\n",
       "      <td>1.000000</td>\n",
       "      <td>0.416667</td>\n",
       "      <td>0.461538</td>\n",
       "      <td>0.315085</td>\n",
       "      <td>0.941176</td>\n",
       "      <td>0.823529</td>\n",
       "    </tr>\n",
       "    <tr>\n",
       "      <th>8</th>\n",
       "      <td>0.50</td>\n",
       "      <td>0.000000</td>\n",
       "      <td>0.638889</td>\n",
       "      <td>0.717949</td>\n",
       "      <td>0.317518</td>\n",
       "      <td>0.735294</td>\n",
       "      <td>0.509804</td>\n",
       "    </tr>\n",
       "    <tr>\n",
       "      <th>9</th>\n",
       "      <td>0.50</td>\n",
       "      <td>0.272727</td>\n",
       "      <td>0.416667</td>\n",
       "      <td>0.487179</td>\n",
       "      <td>0.403893</td>\n",
       "      <td>0.794118</td>\n",
       "      <td>0.274510</td>\n",
       "    </tr>\n",
       "    <tr>\n",
       "      <th>10</th>\n",
       "      <td>0.50</td>\n",
       "      <td>0.709091</td>\n",
       "      <td>0.361111</td>\n",
       "      <td>0.410256</td>\n",
       "      <td>0.474453</td>\n",
       "      <td>0.823529</td>\n",
       "      <td>0.647059</td>\n",
       "    </tr>\n",
       "    <tr>\n",
       "      <th>11</th>\n",
       "      <td>0.50</td>\n",
       "      <td>1.000000</td>\n",
       "      <td>0.333333</td>\n",
       "      <td>0.333333</td>\n",
       "      <td>0.558394</td>\n",
       "      <td>0.852941</td>\n",
       "      <td>0.745098</td>\n",
       "    </tr>\n",
       "    <tr>\n",
       "      <th>12</th>\n",
       "      <td>0.75</td>\n",
       "      <td>0.000000</td>\n",
       "      <td>0.333333</td>\n",
       "      <td>0.333333</td>\n",
       "      <td>0.481752</td>\n",
       "      <td>0.382353</td>\n",
       "      <td>0.137255</td>\n",
       "    </tr>\n",
       "    <tr>\n",
       "      <th>13</th>\n",
       "      <td>0.75</td>\n",
       "      <td>0.272727</td>\n",
       "      <td>0.305556</td>\n",
       "      <td>0.256410</td>\n",
       "      <td>0.484185</td>\n",
       "      <td>0.500000</td>\n",
       "      <td>0.274510</td>\n",
       "    </tr>\n",
       "    <tr>\n",
       "      <th>14</th>\n",
       "      <td>0.75</td>\n",
       "      <td>0.709091</td>\n",
       "      <td>0.277778</td>\n",
       "      <td>0.230769</td>\n",
       "      <td>0.525547</td>\n",
       "      <td>0.632353</td>\n",
       "      <td>0.372549</td>\n",
       "    </tr>\n",
       "    <tr>\n",
       "      <th>15</th>\n",
       "      <td>0.75</td>\n",
       "      <td>1.000000</td>\n",
       "      <td>0.222222</td>\n",
       "      <td>0.153846</td>\n",
       "      <td>0.647202</td>\n",
       "      <td>0.691176</td>\n",
       "      <td>0.490196</td>\n",
       "    </tr>\n",
       "    <tr>\n",
       "      <th>16</th>\n",
       "      <td>1.00</td>\n",
       "      <td>0.000000</td>\n",
       "      <td>0.111111</td>\n",
       "      <td>0.282051</td>\n",
       "      <td>0.536496</td>\n",
       "      <td>0.000000</td>\n",
       "      <td>0.000000</td>\n",
       "    </tr>\n",
       "    <tr>\n",
       "      <th>17</th>\n",
       "      <td>1.00</td>\n",
       "      <td>0.272727</td>\n",
       "      <td>0.083333</td>\n",
       "      <td>1.000000</td>\n",
       "      <td>0.867397</td>\n",
       "      <td>0.088235</td>\n",
       "      <td>0.058824</td>\n",
       "    </tr>\n",
       "    <tr>\n",
       "      <th>18</th>\n",
       "      <td>1.00</td>\n",
       "      <td>0.709091</td>\n",
       "      <td>0.027778</td>\n",
       "      <td>0.128205</td>\n",
       "      <td>0.894161</td>\n",
       "      <td>0.220588</td>\n",
       "      <td>0.274510</td>\n",
       "    </tr>\n",
       "    <tr>\n",
       "      <th>19</th>\n",
       "      <td>1.00</td>\n",
       "      <td>1.000000</td>\n",
       "      <td>0.000000</td>\n",
       "      <td>0.000000</td>\n",
       "      <td>1.000000</td>\n",
       "      <td>0.352941</td>\n",
       "      <td>0.352941</td>\n",
       "    </tr>\n",
       "  </tbody>\n",
       "</table>\n",
       "</div>"
      ],
      "text/plain": [
       "    Total Rotation Speed (rpm)  Welding Speed (mm/min)  \\\n",
       "0                         0.00                0.000000   \n",
       "1                         0.00                0.272727   \n",
       "2                         0.00                0.709091   \n",
       "3                         0.00                1.000000   \n",
       "4                         0.30                0.000000   \n",
       "5                         0.30                0.272727   \n",
       "6                         0.30                0.709091   \n",
       "7                         0.30                1.000000   \n",
       "8                         0.50                0.000000   \n",
       "9                         0.50                0.272727   \n",
       "10                        0.50                0.709091   \n",
       "11                        0.50                1.000000   \n",
       "12                        0.75                0.000000   \n",
       "13                        0.75                0.272727   \n",
       "14                        0.75                0.709091   \n",
       "15                        0.75                1.000000   \n",
       "16                        1.00                0.000000   \n",
       "17                        1.00                0.272727   \n",
       "18                        1.00                0.709091   \n",
       "19                        1.00                1.000000   \n",
       "\n",
       "    Tensile Strength (MPa)  Yield Strength (MPa)  Elongation (%)  \\\n",
       "0                 1.000000              1.000000        0.000000   \n",
       "1                 0.777778              0.846154        0.036496   \n",
       "2                 0.750000              0.794872        0.081509   \n",
       "3                 0.722222              0.743590        0.211679   \n",
       "4                 0.722222              0.769231        0.265207   \n",
       "5                 0.694444              0.717949        0.291971   \n",
       "6                 0.444444              0.487179        0.301703   \n",
       "7                 0.416667              0.461538        0.315085   \n",
       "8                 0.638889              0.717949        0.317518   \n",
       "9                 0.416667              0.487179        0.403893   \n",
       "10                0.361111              0.410256        0.474453   \n",
       "11                0.333333              0.333333        0.558394   \n",
       "12                0.333333              0.333333        0.481752   \n",
       "13                0.305556              0.256410        0.484185   \n",
       "14                0.277778              0.230769        0.525547   \n",
       "15                0.222222              0.153846        0.647202   \n",
       "16                0.111111              0.282051        0.536496   \n",
       "17                0.083333              1.000000        0.867397   \n",
       "18                0.027778              0.128205        0.894161   \n",
       "19                0.000000              0.000000        1.000000   \n",
       "\n",
       "    Hardness Weld (HV)  Hardness HAZ (HV)  \n",
       "0             0.852941           0.823529  \n",
       "1             0.897059           0.901961  \n",
       "2             0.970588           0.960784  \n",
       "3             1.000000           1.000000  \n",
       "4             0.794118           0.617647  \n",
       "5             0.823529           0.627451  \n",
       "6             0.911765           0.705882  \n",
       "7             0.941176           0.823529  \n",
       "8             0.735294           0.509804  \n",
       "9             0.794118           0.274510  \n",
       "10            0.823529           0.647059  \n",
       "11            0.852941           0.745098  \n",
       "12            0.382353           0.137255  \n",
       "13            0.500000           0.274510  \n",
       "14            0.632353           0.372549  \n",
       "15            0.691176           0.490196  \n",
       "16            0.000000           0.000000  \n",
       "17            0.088235           0.058824  \n",
       "18            0.220588           0.274510  \n",
       "19            0.352941           0.352941  "
      ]
     },
     "execution_count": 397,
     "metadata": {},
     "output_type": "execute_result"
    }
   ],
   "source": [
    "norm_df = normalize_dataset(data)\n",
    "norm_df"
   ]
  },
  {
   "cell_type": "markdown",
   "id": "6808c3c2",
   "metadata": {},
   "source": [
    "## Nova ordem da lista gerada automaticamente"
   ]
  },
  {
   "cell_type": "code",
   "execution_count": 398,
   "id": "4e249ab0",
   "metadata": {},
   "outputs": [
    {
     "data": {
      "text/plain": [
       "[0, 1, 2, 3, 4, 5, 6, 7, 8, 9, 10, 11, 12, 13, 14, 15, 16, 17, 18, 19]"
      ]
     },
     "execution_count": 398,
     "metadata": {},
     "output_type": "execute_result"
    }
   ],
   "source": [
    "import random\n",
    "size = len(norm_df)\n",
    "ordem = [i for i in range(size)]\n",
    "ordem"
   ]
  },
  {
   "cell_type": "code",
   "execution_count": 399,
   "id": "1a8a7b6f",
   "metadata": {},
   "outputs": [
    {
     "data": {
      "text/plain": [
       "[6, 11, 0, 3, 15, 14, 19, 17, 8, 12, 13, 1, 5, 7, 18, 9, 4, 10, 2, 16]"
      ]
     },
     "execution_count": 399,
     "metadata": {},
     "output_type": "execute_result"
    }
   ],
   "source": [
    "random.shuffle(ordem)\n",
    "ordem"
   ]
  },
  {
   "cell_type": "markdown",
   "id": "a393349b",
   "metadata": {},
   "source": [
    "## Conjunto de dados de treino"
   ]
  },
  {
   "cell_type": "code",
   "execution_count": 400,
   "id": "5b384456",
   "metadata": {},
   "outputs": [
    {
     "data": {
      "text/html": [
       "<div>\n",
       "<style scoped>\n",
       "    .dataframe tbody tr th:only-of-type {\n",
       "        vertical-align: middle;\n",
       "    }\n",
       "\n",
       "    .dataframe tbody tr th {\n",
       "        vertical-align: top;\n",
       "    }\n",
       "\n",
       "    .dataframe thead th {\n",
       "        text-align: right;\n",
       "    }\n",
       "</style>\n",
       "<table border=\"1\" class=\"dataframe\">\n",
       "  <thead>\n",
       "    <tr style=\"text-align: right;\">\n",
       "      <th></th>\n",
       "      <th>Total Rotation Speed (rpm)</th>\n",
       "      <th>Welding Speed (mm/min)</th>\n",
       "      <th>Tensile Strength (MPa)</th>\n",
       "      <th>Yield Strength (MPa)</th>\n",
       "      <th>Elongation (%)</th>\n",
       "      <th>Hardness Weld (HV)</th>\n",
       "      <th>Hardness HAZ (HV)</th>\n",
       "    </tr>\n",
       "  </thead>\n",
       "  <tbody>\n",
       "    <tr>\n",
       "      <th>6</th>\n",
       "      <td>0.30</td>\n",
       "      <td>0.709091</td>\n",
       "      <td>0.444444</td>\n",
       "      <td>0.487179</td>\n",
       "      <td>0.301703</td>\n",
       "      <td>0.911765</td>\n",
       "      <td>0.705882</td>\n",
       "    </tr>\n",
       "    <tr>\n",
       "      <th>11</th>\n",
       "      <td>0.50</td>\n",
       "      <td>1.000000</td>\n",
       "      <td>0.333333</td>\n",
       "      <td>0.333333</td>\n",
       "      <td>0.558394</td>\n",
       "      <td>0.852941</td>\n",
       "      <td>0.745098</td>\n",
       "    </tr>\n",
       "    <tr>\n",
       "      <th>0</th>\n",
       "      <td>0.00</td>\n",
       "      <td>0.000000</td>\n",
       "      <td>1.000000</td>\n",
       "      <td>1.000000</td>\n",
       "      <td>0.000000</td>\n",
       "      <td>0.852941</td>\n",
       "      <td>0.823529</td>\n",
       "    </tr>\n",
       "    <tr>\n",
       "      <th>3</th>\n",
       "      <td>0.00</td>\n",
       "      <td>1.000000</td>\n",
       "      <td>0.722222</td>\n",
       "      <td>0.743590</td>\n",
       "      <td>0.211679</td>\n",
       "      <td>1.000000</td>\n",
       "      <td>1.000000</td>\n",
       "    </tr>\n",
       "    <tr>\n",
       "      <th>15</th>\n",
       "      <td>0.75</td>\n",
       "      <td>1.000000</td>\n",
       "      <td>0.222222</td>\n",
       "      <td>0.153846</td>\n",
       "      <td>0.647202</td>\n",
       "      <td>0.691176</td>\n",
       "      <td>0.490196</td>\n",
       "    </tr>\n",
       "    <tr>\n",
       "      <th>14</th>\n",
       "      <td>0.75</td>\n",
       "      <td>0.709091</td>\n",
       "      <td>0.277778</td>\n",
       "      <td>0.230769</td>\n",
       "      <td>0.525547</td>\n",
       "      <td>0.632353</td>\n",
       "      <td>0.372549</td>\n",
       "    </tr>\n",
       "    <tr>\n",
       "      <th>19</th>\n",
       "      <td>1.00</td>\n",
       "      <td>1.000000</td>\n",
       "      <td>0.000000</td>\n",
       "      <td>0.000000</td>\n",
       "      <td>1.000000</td>\n",
       "      <td>0.352941</td>\n",
       "      <td>0.352941</td>\n",
       "    </tr>\n",
       "    <tr>\n",
       "      <th>17</th>\n",
       "      <td>1.00</td>\n",
       "      <td>0.272727</td>\n",
       "      <td>0.083333</td>\n",
       "      <td>1.000000</td>\n",
       "      <td>0.867397</td>\n",
       "      <td>0.088235</td>\n",
       "      <td>0.058824</td>\n",
       "    </tr>\n",
       "    <tr>\n",
       "      <th>8</th>\n",
       "      <td>0.50</td>\n",
       "      <td>0.000000</td>\n",
       "      <td>0.638889</td>\n",
       "      <td>0.717949</td>\n",
       "      <td>0.317518</td>\n",
       "      <td>0.735294</td>\n",
       "      <td>0.509804</td>\n",
       "    </tr>\n",
       "    <tr>\n",
       "      <th>12</th>\n",
       "      <td>0.75</td>\n",
       "      <td>0.000000</td>\n",
       "      <td>0.333333</td>\n",
       "      <td>0.333333</td>\n",
       "      <td>0.481752</td>\n",
       "      <td>0.382353</td>\n",
       "      <td>0.137255</td>\n",
       "    </tr>\n",
       "    <tr>\n",
       "      <th>13</th>\n",
       "      <td>0.75</td>\n",
       "      <td>0.272727</td>\n",
       "      <td>0.305556</td>\n",
       "      <td>0.256410</td>\n",
       "      <td>0.484185</td>\n",
       "      <td>0.500000</td>\n",
       "      <td>0.274510</td>\n",
       "    </tr>\n",
       "    <tr>\n",
       "      <th>1</th>\n",
       "      <td>0.00</td>\n",
       "      <td>0.272727</td>\n",
       "      <td>0.777778</td>\n",
       "      <td>0.846154</td>\n",
       "      <td>0.036496</td>\n",
       "      <td>0.897059</td>\n",
       "      <td>0.901961</td>\n",
       "    </tr>\n",
       "    <tr>\n",
       "      <th>5</th>\n",
       "      <td>0.30</td>\n",
       "      <td>0.272727</td>\n",
       "      <td>0.694444</td>\n",
       "      <td>0.717949</td>\n",
       "      <td>0.291971</td>\n",
       "      <td>0.823529</td>\n",
       "      <td>0.627451</td>\n",
       "    </tr>\n",
       "    <tr>\n",
       "      <th>7</th>\n",
       "      <td>0.30</td>\n",
       "      <td>1.000000</td>\n",
       "      <td>0.416667</td>\n",
       "      <td>0.461538</td>\n",
       "      <td>0.315085</td>\n",
       "      <td>0.941176</td>\n",
       "      <td>0.823529</td>\n",
       "    </tr>\n",
       "    <tr>\n",
       "      <th>18</th>\n",
       "      <td>1.00</td>\n",
       "      <td>0.709091</td>\n",
       "      <td>0.027778</td>\n",
       "      <td>0.128205</td>\n",
       "      <td>0.894161</td>\n",
       "      <td>0.220588</td>\n",
       "      <td>0.274510</td>\n",
       "    </tr>\n",
       "  </tbody>\n",
       "</table>\n",
       "</div>"
      ],
      "text/plain": [
       "    Total Rotation Speed (rpm)  Welding Speed (mm/min)  \\\n",
       "6                         0.30                0.709091   \n",
       "11                        0.50                1.000000   \n",
       "0                         0.00                0.000000   \n",
       "3                         0.00                1.000000   \n",
       "15                        0.75                1.000000   \n",
       "14                        0.75                0.709091   \n",
       "19                        1.00                1.000000   \n",
       "17                        1.00                0.272727   \n",
       "8                         0.50                0.000000   \n",
       "12                        0.75                0.000000   \n",
       "13                        0.75                0.272727   \n",
       "1                         0.00                0.272727   \n",
       "5                         0.30                0.272727   \n",
       "7                         0.30                1.000000   \n",
       "18                        1.00                0.709091   \n",
       "\n",
       "    Tensile Strength (MPa)  Yield Strength (MPa)  Elongation (%)  \\\n",
       "6                 0.444444              0.487179        0.301703   \n",
       "11                0.333333              0.333333        0.558394   \n",
       "0                 1.000000              1.000000        0.000000   \n",
       "3                 0.722222              0.743590        0.211679   \n",
       "15                0.222222              0.153846        0.647202   \n",
       "14                0.277778              0.230769        0.525547   \n",
       "19                0.000000              0.000000        1.000000   \n",
       "17                0.083333              1.000000        0.867397   \n",
       "8                 0.638889              0.717949        0.317518   \n",
       "12                0.333333              0.333333        0.481752   \n",
       "13                0.305556              0.256410        0.484185   \n",
       "1                 0.777778              0.846154        0.036496   \n",
       "5                 0.694444              0.717949        0.291971   \n",
       "7                 0.416667              0.461538        0.315085   \n",
       "18                0.027778              0.128205        0.894161   \n",
       "\n",
       "    Hardness Weld (HV)  Hardness HAZ (HV)  \n",
       "6             0.911765           0.705882  \n",
       "11            0.852941           0.745098  \n",
       "0             0.852941           0.823529  \n",
       "3             1.000000           1.000000  \n",
       "15            0.691176           0.490196  \n",
       "14            0.632353           0.372549  \n",
       "19            0.352941           0.352941  \n",
       "17            0.088235           0.058824  \n",
       "8             0.735294           0.509804  \n",
       "12            0.382353           0.137255  \n",
       "13            0.500000           0.274510  \n",
       "1             0.897059           0.901961  \n",
       "5             0.823529           0.627451  \n",
       "7             0.941176           0.823529  \n",
       "18            0.220588           0.274510  "
      ]
     },
     "execution_count": 400,
     "metadata": {},
     "output_type": "execute_result"
    }
   ],
   "source": [
    "n_treino = 15\n",
    "d = norm_df.iloc[ordem[0:n_treino]]\n",
    "d"
   ]
  },
  {
   "cell_type": "markdown",
   "id": "99bc3b0c",
   "metadata": {},
   "source": [
    "## Conjunto de dados de validação"
   ]
  },
  {
   "cell_type": "code",
   "execution_count": 401,
   "id": "cce857e9",
   "metadata": {},
   "outputs": [
    {
     "data": {
      "text/html": [
       "<div>\n",
       "<style scoped>\n",
       "    .dataframe tbody tr th:only-of-type {\n",
       "        vertical-align: middle;\n",
       "    }\n",
       "\n",
       "    .dataframe tbody tr th {\n",
       "        vertical-align: top;\n",
       "    }\n",
       "\n",
       "    .dataframe thead th {\n",
       "        text-align: right;\n",
       "    }\n",
       "</style>\n",
       "<table border=\"1\" class=\"dataframe\">\n",
       "  <thead>\n",
       "    <tr style=\"text-align: right;\">\n",
       "      <th></th>\n",
       "      <th>Total Rotation Speed (rpm)</th>\n",
       "      <th>Welding Speed (mm/min)</th>\n",
       "      <th>Tensile Strength (MPa)</th>\n",
       "      <th>Yield Strength (MPa)</th>\n",
       "      <th>Elongation (%)</th>\n",
       "      <th>Hardness Weld (HV)</th>\n",
       "      <th>Hardness HAZ (HV)</th>\n",
       "    </tr>\n",
       "  </thead>\n",
       "  <tbody>\n",
       "    <tr>\n",
       "      <th>9</th>\n",
       "      <td>0.5</td>\n",
       "      <td>0.272727</td>\n",
       "      <td>0.416667</td>\n",
       "      <td>0.487179</td>\n",
       "      <td>0.403893</td>\n",
       "      <td>0.794118</td>\n",
       "      <td>0.274510</td>\n",
       "    </tr>\n",
       "    <tr>\n",
       "      <th>4</th>\n",
       "      <td>0.3</td>\n",
       "      <td>0.000000</td>\n",
       "      <td>0.722222</td>\n",
       "      <td>0.769231</td>\n",
       "      <td>0.265207</td>\n",
       "      <td>0.794118</td>\n",
       "      <td>0.617647</td>\n",
       "    </tr>\n",
       "    <tr>\n",
       "      <th>10</th>\n",
       "      <td>0.5</td>\n",
       "      <td>0.709091</td>\n",
       "      <td>0.361111</td>\n",
       "      <td>0.410256</td>\n",
       "      <td>0.474453</td>\n",
       "      <td>0.823529</td>\n",
       "      <td>0.647059</td>\n",
       "    </tr>\n",
       "    <tr>\n",
       "      <th>2</th>\n",
       "      <td>0.0</td>\n",
       "      <td>0.709091</td>\n",
       "      <td>0.750000</td>\n",
       "      <td>0.794872</td>\n",
       "      <td>0.081509</td>\n",
       "      <td>0.970588</td>\n",
       "      <td>0.960784</td>\n",
       "    </tr>\n",
       "    <tr>\n",
       "      <th>16</th>\n",
       "      <td>1.0</td>\n",
       "      <td>0.000000</td>\n",
       "      <td>0.111111</td>\n",
       "      <td>0.282051</td>\n",
       "      <td>0.536496</td>\n",
       "      <td>0.000000</td>\n",
       "      <td>0.000000</td>\n",
       "    </tr>\n",
       "  </tbody>\n",
       "</table>\n",
       "</div>"
      ],
      "text/plain": [
       "    Total Rotation Speed (rpm)  Welding Speed (mm/min)  \\\n",
       "9                          0.5                0.272727   \n",
       "4                          0.3                0.000000   \n",
       "10                         0.5                0.709091   \n",
       "2                          0.0                0.709091   \n",
       "16                         1.0                0.000000   \n",
       "\n",
       "    Tensile Strength (MPa)  Yield Strength (MPa)  Elongation (%)  \\\n",
       "9                 0.416667              0.487179        0.403893   \n",
       "4                 0.722222              0.769231        0.265207   \n",
       "10                0.361111              0.410256        0.474453   \n",
       "2                 0.750000              0.794872        0.081509   \n",
       "16                0.111111              0.282051        0.536496   \n",
       "\n",
       "    Hardness Weld (HV)  Hardness HAZ (HV)  \n",
       "9             0.794118           0.274510  \n",
       "4             0.794118           0.617647  \n",
       "10            0.823529           0.647059  \n",
       "2             0.970588           0.960784  \n",
       "16            0.000000           0.000000  "
      ]
     },
     "execution_count": 401,
     "metadata": {},
     "output_type": "execute_result"
    }
   ],
   "source": [
    "dv = norm_df.iloc[ordem[n_treino:size]]\n",
    "dv"
   ]
  },
  {
   "cell_type": "markdown",
   "id": "6b57c301",
   "metadata": {},
   "source": [
    "# Arquitetura da rede neural\n",
    "\n",
    "## Representação visual\n"
   ]
  },
  {
   "cell_type": "markdown",
   "id": "798398b5",
   "metadata": {},
   "source": [
    "![Arquitetura da rede neural](../okuyucu_arquitecture.png \"Arquitetura da rede neural\")"
   ]
  },
  {
   "cell_type": "markdown",
   "id": "8dc38862",
   "metadata": {},
   "source": [
    "## Número de neurônios de cada camada"
   ]
  },
  {
   "cell_type": "code",
   "execution_count": 402,
   "id": "9d94de3c",
   "metadata": {},
   "outputs": [],
   "source": [
    "ne = 2 # número de neurônios da camada de entrada\n",
    "nh = 6 # número de neurônios da camada oculta (hidden layer)\n",
    "ns = 5 # número de neurônios da camada de saída"
   ]
  },
  {
   "cell_type": "markdown",
   "id": "83b100af",
   "metadata": {},
   "source": [
    "# Treinamento passo a passo utilizando apenas a primeira linha do dataset\n",
    "\n",
    "## Propagação\n"
   ]
  },
  {
   "cell_type": "markdown",
   "id": "6c7314ba",
   "metadata": {},
   "source": [
    "Vetor de entrada"
   ]
  },
  {
   "cell_type": "code",
   "execution_count": 403,
   "id": "51198346",
   "metadata": {},
   "outputs": [
    {
     "data": {
      "text/plain": [
       "array([0.3       , 0.70909091])"
      ]
     },
     "execution_count": 403,
     "metadata": {},
     "output_type": "execute_result"
    }
   ],
   "source": [
    "input_cols = d.columns[0:2]\n",
    "x = np.array(d[input_cols].iloc[0])\n",
    "x"
   ]
  },
  {
   "cell_type": "markdown",
   "id": "e0b1181d",
   "metadata": {},
   "source": [
    "Vetor de entrada com o Bias"
   ]
  },
  {
   "cell_type": "code",
   "execution_count": 404,
   "id": "5e5d319e",
   "metadata": {},
   "outputs": [
    {
     "data": {
      "text/plain": [
       "array([[0.3       ],\n",
       "       [0.70909091],\n",
       "       [1.        ]])"
      ]
     },
     "execution_count": 404,
     "metadata": {},
     "output_type": "execute_result"
    }
   ],
   "source": [
    "bias = 1\n",
    "xb = np.concatenate((x, [bias]))\n",
    "xb = xb[np.newaxis]\n",
    "xb = xb.T\n",
    "xb"
   ]
  },
  {
   "cell_type": "markdown",
   "id": "864c4a4d",
   "metadata": {},
   "source": [
    "Geração dos pesos da camada escondida"
   ]
  },
  {
   "cell_type": "code",
   "execution_count": 405,
   "id": "2124a72a",
   "metadata": {},
   "outputs": [
    {
     "data": {
      "text/plain": [
       "[array([[ 0.02364325,  0.90092739,  1.        ],\n",
       "        [-0.71168077,  0.89729889,  1.        ],\n",
       "        [-0.3763371 , -0.1533471 ,  1.        ],\n",
       "        [ 0.65540519, -0.18160173,  1.        ],\n",
       "        [ 0.09918738, -0.94488177,  1.        ],\n",
       "        [ 0.50702622,  0.07628663,  1.        ]])]"
      ]
     },
     "execution_count": 405,
     "metadata": {},
     "output_type": "execute_result"
    }
   ],
   "source": [
    "rng = default_rng(1)\n",
    "\n",
    "w1 = [[]]\n",
    "w1[0] = np.column_stack((randn(nh, ne, -1, 1), np.ones(nh)))\n",
    "w1"
   ]
  },
  {
   "cell_type": "markdown",
   "id": "d085031a",
   "metadata": {},
   "source": [
    "vetor de entrada da camada escondida"
   ]
  },
  {
   "cell_type": "code",
   "execution_count": 406,
   "id": "e7ab14f1",
   "metadata": {},
   "outputs": [
    {
     "data": {
      "text/plain": [
       "array([[1.6459324 ],\n",
       "       [1.42276226],\n",
       "       [0.77836184],\n",
       "       [1.06784942],\n",
       "       [0.35974914],\n",
       "       [1.20620202]])"
      ]
     },
     "execution_count": 406,
     "metadata": {},
     "output_type": "execute_result"
    }
   ],
   "source": [
    "v1 = np.dot(w1[0], xb)\n",
    "v1"
   ]
  },
  {
   "cell_type": "markdown",
   "id": "2786ec66",
   "metadata": {},
   "source": [
    "Vetor de saída da camada escondida"
   ]
  },
  {
   "cell_type": "code",
   "execution_count": 407,
   "id": "44929cd4",
   "metadata": {},
   "outputs": [
    {
     "data": {
      "text/plain": [
       "array([[0.83834054],\n",
       "       [0.80577109],\n",
       "       [0.68532694],\n",
       "       [0.74418772],\n",
       "       [0.58897971],\n",
       "       [0.76962625]])"
      ]
     },
     "execution_count": 407,
     "metadata": {},
     "output_type": "execute_result"
    }
   ],
   "source": [
    "phi = sigmoid(v1)\n",
    "phi"
   ]
  },
  {
   "cell_type": "markdown",
   "id": "5ff5cda4",
   "metadata": {},
   "source": [
    "Vetor de saída da camada escondida com adição do bias"
   ]
  },
  {
   "cell_type": "code",
   "execution_count": 408,
   "id": "34bab933",
   "metadata": {},
   "outputs": [
    {
     "name": "stdout",
     "output_type": "stream",
     "text": [
      "[[0.83834054]\n",
      " [0.80577109]\n",
      " [0.68532694]\n",
      " [0.74418772]\n",
      " [0.58897971]\n",
      " [0.76962625]\n",
      " [1.        ]]\n"
     ]
    }
   ],
   "source": [
    "phi_b = np.concatenate((phi, [[bias]]))\n",
    "print(phi_b)"
   ]
  },
  {
   "cell_type": "markdown",
   "id": "9ab3872d",
   "metadata": {},
   "source": [
    "Geração dos pesos da camada de saída"
   ]
  },
  {
   "cell_type": "code",
   "execution_count": 409,
   "id": "f591de01",
   "metadata": {},
   "outputs": [
    {
     "name": "stdout",
     "output_type": "stream",
     "text": [
      "[array([[-0.47677573, -0.40301771,  0.62845148, -0.81616812,  0.20020105,\n",
      "         0.45712105,  1.        ],\n",
      "       [-0.62419785, -0.88970675, -0.45006126,  0.31486603,  0.12453133,\n",
      "        -0.69987547,  1.        ],\n",
      "       [-0.13473842,  0.3385946 , -0.15443065,  0.2663688 ,  0.9348719 ,\n",
      "         0.36612964,  1.        ],\n",
      "       [-0.21675033, -0.62549486, -0.30807867,  0.02213195,  0.78241882,\n",
      "         0.55112788,  1.        ],\n",
      "       [-0.3637068 ,  0.84843379, -0.05818023,  0.38751768, -0.78558538,\n",
      "        -0.79091288,  1.        ]])]\n"
     ]
    }
   ],
   "source": [
    "rng = default_rng(2)\n",
    "\n",
    "w2 = [[]]\n",
    "w2[0] = np.column_stack((randn(ns, nh, -1, 1), np.ones(ns)))\n",
    "print(w2)"
   ]
  },
  {
   "cell_type": "markdown",
   "id": "2030b201",
   "metadata": {},
   "source": [
    "Vetor de entrada da camada de saída"
   ]
  },
  {
   "cell_type": "code",
   "execution_count": 410,
   "id": "1d8c4e17",
   "metadata": {},
   "outputs": [
    {
     "name": "stdout",
     "output_type": "stream",
     "text": [
      "[[ 0.56859872]\n",
      " [-0.77960613]\n",
      " [ 2.08466952]\n",
      " [ 1.00461074]\n",
      " [ 0.55584552]]\n"
     ]
    }
   ],
   "source": [
    "v2 = np.dot(w2[0], phi_b)\n",
    "print(v2)"
   ]
  },
  {
   "cell_type": "markdown",
   "id": "25b9b92f",
   "metadata": {},
   "source": [
    "Vetor de saída da rede neural"
   ]
  },
  {
   "cell_type": "code",
   "execution_count": 411,
   "id": "7c1ee327",
   "metadata": {},
   "outputs": [
    {
     "name": "stdout",
     "output_type": "stream",
     "text": [
      "[[0.63843977]\n",
      " [0.31440478]\n",
      " [0.88940418]\n",
      " [0.73196414]\n",
      " [0.63549073]]\n"
     ]
    }
   ],
   "source": [
    "y = sigmoid(v2)\n",
    "print(y)"
   ]
  },
  {
   "cell_type": "markdown",
   "id": "10c2974c",
   "metadata": {},
   "source": [
    "## Cálculo do erro\n",
    "\n",
    "Valores experimentais (valores desejados)"
   ]
  },
  {
   "cell_type": "code",
   "execution_count": 412,
   "id": "053b622e",
   "metadata": {},
   "outputs": [
    {
     "data": {
      "text/plain": [
       "array([0.44444444, 0.48717949, 0.30170316, 0.91176471, 0.70588235])"
      ]
     },
     "execution_count": 412,
     "metadata": {},
     "output_type": "execute_result"
    }
   ],
   "source": [
    "output_cols = d.columns[2:]\n",
    "np.array(d[output_cols].iloc[0])"
   ]
  },
  {
   "cell_type": "markdown",
   "id": "be93de91",
   "metadata": {},
   "source": [
    "Vetor do erro (resíduo)"
   ]
  },
  {
   "cell_type": "code",
   "execution_count": 413,
   "id": "f4fd21f0",
   "metadata": {},
   "outputs": [
    {
     "data": {
      "text/plain": [
       "array([-0.19399533,  0.17277471, -0.58770102,  0.17980057,  0.07039162])"
      ]
     },
     "execution_count": 413,
     "metadata": {},
     "output_type": "execute_result"
    }
   ],
   "source": [
    "e = np.array(d[output_cols].iloc[0]) - y.T\n",
    "e = e[0]\n",
    "e"
   ]
  },
  {
   "cell_type": "markdown",
   "id": "9e5c91fb",
   "metadata": {},
   "source": [
    "Erro quadrático"
   ]
  },
  {
   "cell_type": "code",
   "execution_count": 414,
   "id": "159c7a6a",
   "metadata": {},
   "outputs": [
    {
     "data": {
      "text/plain": [
       "0.22508050076848196"
      ]
     },
     "execution_count": 414,
     "metadata": {},
     "output_type": "execute_result"
    }
   ],
   "source": [
    "np.dot(e, e.T)/2"
   ]
  },
  {
   "cell_type": "markdown",
   "id": "1e981264",
   "metadata": {},
   "source": [
    "## Retropropagação\n",
    "\n",
    "### Cálculo dos deltas\n"
   ]
  },
  {
   "cell_type": "code",
   "execution_count": 415,
   "id": "a6034c16",
   "metadata": {},
   "outputs": [
    {
     "data": {
      "text/plain": [
       "array([[-0.0447808 ],\n",
       "       [ 0.03724235],\n",
       "       [-0.05780885],\n",
       "       [ 0.03527555],\n",
       "       [ 0.01630567]])"
      ]
     },
     "execution_count": 415,
     "metadata": {},
     "output_type": "execute_result"
    }
   ],
   "source": [
    "delta_2 = np.dot(np.diag(e), (1 - y) * y)\n",
    "delta_2"
   ]
  },
  {
   "cell_type": "code",
   "execution_count": 440,
   "id": "75d4d592",
   "metadata": {},
   "outputs": [
    {
     "data": {
      "text/plain": [
       "array([[-0.0076836 ],\n",
       "       [-0.04289147],\n",
       "       [-0.04779275],\n",
       "       [ 0.03997599],\n",
       "       [-0.04358044],\n",
       "       [-0.06115582]])"
      ]
     },
     "execution_count": 440,
     "metadata": {},
     "output_type": "execute_result"
    }
   ],
   "source": [
    "v_delta_2 = np.dot(drop(w2[0].T, -1), delta_2)\n",
    "v_delta_2"
   ]
  },
  {
   "cell_type": "code",
   "execution_count": 427,
   "id": "f1831442",
   "metadata": {},
   "outputs": [
    {
     "data": {
      "text/plain": [
       "array([[-0.00104132],\n",
       "       [-0.00671269],\n",
       "       [-0.01030669],\n",
       "       [ 0.00761032],\n",
       "       [-0.01055007],\n",
       "       [-0.01084303]])"
      ]
     },
     "execution_count": 427,
     "metadata": {},
     "output_type": "execute_result"
    }
   ],
   "source": [
    "delta_1 = np.dot(np.diag(((1 - phi) * phi).T[0]), v_delta_2)\n",
    "delta_1"
   ]
  },
  {
   "cell_type": "markdown",
   "id": "0daf64b3",
   "metadata": {},
   "source": [
    "### Atualização dos pesos\n"
   ]
  },
  {
   "cell_type": "code",
   "execution_count": 441,
   "id": "b1ca1fd0",
   "metadata": {},
   "outputs": [
    {
     "data": {
      "text/plain": [
       "array([[0.83834054, 0.80577109, 0.68532694, 0.74418772, 0.58897971,\n",
       "        0.76962625, 1.        ]])"
      ]
     },
     "execution_count": 441,
     "metadata": {},
     "output_type": "execute_result"
    }
   ],
   "source": [
    "eta = 0.02\n",
    "phi_b.T"
   ]
  },
  {
   "cell_type": "code",
   "execution_count": 444,
   "id": "2ef18667",
   "metadata": {},
   "outputs": [
    {
     "data": {
      "text/plain": [
       "array([[-0.00075083, -0.00072166, -0.00061379, -0.00066651, -0.0005275 ,\n",
       "        -0.00068929, -0.00089562],\n",
       "       [ 0.00062444,  0.00060018,  0.00051046,  0.00055431,  0.0004387 ,\n",
       "         0.00057325,  0.00074485],\n",
       "       [-0.00096927, -0.00093161, -0.00079236, -0.00086041, -0.00068096,\n",
       "        -0.00088982, -0.00115618],\n",
       "       [ 0.00059146,  0.00056848,  0.00048351,  0.00052503,  0.00041553,\n",
       "         0.00054298,  0.00070551],\n",
       "       [ 0.00027339,  0.00026277,  0.00022349,  0.00024269,  0.00019207,\n",
       "         0.00025099,  0.00032611]])"
      ]
     },
     "execution_count": 444,
     "metadata": {},
     "output_type": "execute_result"
    }
   ],
   "source": [
    "delta_w2 = eta * np.dot(delta_2, phi_b.T)\n",
    "delta_w2"
   ]
  },
  {
   "cell_type": "code",
   "execution_count": 451,
   "id": "407009e6",
   "metadata": {},
   "outputs": [
    {
     "data": {
      "text/plain": [
       "array([[-6.24794647e-06, -1.47678735e-05, -2.08264882e-05],\n",
       "       [-4.02761275e-05, -9.51981195e-05, -1.34253758e-04],\n",
       "       [-6.18401692e-05, -1.46167673e-04, -2.06133897e-04],\n",
       "       [ 4.56619449e-05,  1.07928233e-04,  1.52206483e-04],\n",
       "       [-6.33003987e-05, -1.49619124e-04, -2.11001329e-04],\n",
       "       [-6.50581773e-05, -1.53773874e-04, -2.16860591e-04]])"
      ]
     },
     "execution_count": 451,
     "metadata": {},
     "output_type": "execute_result"
    }
   ],
   "source": [
    "delta_w1 = eta * np.dot(delta_1, xb.T)\n",
    "delta_w1"
   ]
  },
  {
   "cell_type": "code",
   "execution_count": null,
   "id": "854a108a",
   "metadata": {},
   "outputs": [],
   "source": []
  }
 ],
 "metadata": {
  "kernelspec": {
   "display_name": "Python 3",
   "language": "python",
   "name": "python3"
  },
  "language_info": {
   "codemirror_mode": {
    "name": "ipython",
    "version": 3
   },
   "file_extension": ".py",
   "mimetype": "text/x-python",
   "name": "python",
   "nbconvert_exporter": "python",
   "pygments_lexer": "ipython3",
   "version": "3.8.8"
  }
 },
 "nbformat": 4,
 "nbformat_minor": 5
}
